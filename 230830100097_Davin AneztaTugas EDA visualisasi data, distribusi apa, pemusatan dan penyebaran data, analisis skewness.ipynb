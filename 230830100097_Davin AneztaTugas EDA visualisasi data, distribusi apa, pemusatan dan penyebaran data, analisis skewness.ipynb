{
  "nbformat": 4,
  "nbformat_minor": 0,
  "metadata": {
    "colab": {
      "provenance": []
    },
    "kernelspec": {
      "name": "python3",
      "display_name": "Python 3"
    },
    "language_info": {
      "name": "python"
    }
  },
  "cells": [
    {
      "cell_type": "code",
      "execution_count": 26,
      "metadata": {
        "id": "uwNDFPfj4ec4",
        "colab": {
          "base_uri": "https://localhost:8080/",
          "height": 261
        },
        "outputId": "f47bb425-bdc7-4962-bcfb-8955fb572938"
      },
      "outputs": [
        {
          "output_type": "execute_result",
          "data": {
            "text/plain": [
              "   province_id   province_name                   island iso_code capital_city  \\\n",
              "0            1            Aceh                  Sumatra       AC   Banda Aceh   \n",
              "1            2            Bali  Kepulauan Nusa Tenggara       BA     Denpasar   \n",
              "2            3          Banten                     Jawa       BT       Serang   \n",
              "3            4        Bengkulu                  Sumatra       BE     Bengkulu   \n",
              "4            5   DI Yogyakarta                     Jawa       YO   Yogyakarta   \n",
              "\n",
              "   population  population_kmsquare  confirmed  deceased  released  \\\n",
              "0     4906835                   86          4         0         0   \n",
              "1     4104900                  738          9         2         0   \n",
              "2    11704877                 1298         84         4         1   \n",
              "3     1844800                   93          0         0         0   \n",
              "4     3553100                 1134         22         2         1   \n",
              "\n",
              "     longitude    latitude  \n",
              "0    9.672.895   3.869.994  \n",
              "1   11.512.255    -825.731  \n",
              "2  106.160.889  -6.315.299  \n",
              "3  102.315.674  -3.414.725  \n",
              "4  110.390.625  -7.863.382  "
            ],
            "text/html": [
              "\n",
              "  <div id=\"df-045e8019-6d66-4d7d-9503-cd7282b9b917\" class=\"colab-df-container\">\n",
              "    <div>\n",
              "<style scoped>\n",
              "    .dataframe tbody tr th:only-of-type {\n",
              "        vertical-align: middle;\n",
              "    }\n",
              "\n",
              "    .dataframe tbody tr th {\n",
              "        vertical-align: top;\n",
              "    }\n",
              "\n",
              "    .dataframe thead th {\n",
              "        text-align: right;\n",
              "    }\n",
              "</style>\n",
              "<table border=\"1\" class=\"dataframe\">\n",
              "  <thead>\n",
              "    <tr style=\"text-align: right;\">\n",
              "      <th></th>\n",
              "      <th>province_id</th>\n",
              "      <th>province_name</th>\n",
              "      <th>island</th>\n",
              "      <th>iso_code</th>\n",
              "      <th>capital_city</th>\n",
              "      <th>population</th>\n",
              "      <th>population_kmsquare</th>\n",
              "      <th>confirmed</th>\n",
              "      <th>deceased</th>\n",
              "      <th>released</th>\n",
              "      <th>longitude</th>\n",
              "      <th>latitude</th>\n",
              "    </tr>\n",
              "  </thead>\n",
              "  <tbody>\n",
              "    <tr>\n",
              "      <th>0</th>\n",
              "      <td>1</td>\n",
              "      <td>Aceh</td>\n",
              "      <td>Sumatra</td>\n",
              "      <td>AC</td>\n",
              "      <td>Banda Aceh</td>\n",
              "      <td>4906835</td>\n",
              "      <td>86</td>\n",
              "      <td>4</td>\n",
              "      <td>0</td>\n",
              "      <td>0</td>\n",
              "      <td>9.672.895</td>\n",
              "      <td>3.869.994</td>\n",
              "    </tr>\n",
              "    <tr>\n",
              "      <th>1</th>\n",
              "      <td>2</td>\n",
              "      <td>Bali</td>\n",
              "      <td>Kepulauan Nusa Tenggara</td>\n",
              "      <td>BA</td>\n",
              "      <td>Denpasar</td>\n",
              "      <td>4104900</td>\n",
              "      <td>738</td>\n",
              "      <td>9</td>\n",
              "      <td>2</td>\n",
              "      <td>0</td>\n",
              "      <td>11.512.255</td>\n",
              "      <td>-825.731</td>\n",
              "    </tr>\n",
              "    <tr>\n",
              "      <th>2</th>\n",
              "      <td>3</td>\n",
              "      <td>Banten</td>\n",
              "      <td>Jawa</td>\n",
              "      <td>BT</td>\n",
              "      <td>Serang</td>\n",
              "      <td>11704877</td>\n",
              "      <td>1298</td>\n",
              "      <td>84</td>\n",
              "      <td>4</td>\n",
              "      <td>1</td>\n",
              "      <td>106.160.889</td>\n",
              "      <td>-6.315.299</td>\n",
              "    </tr>\n",
              "    <tr>\n",
              "      <th>3</th>\n",
              "      <td>4</td>\n",
              "      <td>Bengkulu</td>\n",
              "      <td>Sumatra</td>\n",
              "      <td>BE</td>\n",
              "      <td>Bengkulu</td>\n",
              "      <td>1844800</td>\n",
              "      <td>93</td>\n",
              "      <td>0</td>\n",
              "      <td>0</td>\n",
              "      <td>0</td>\n",
              "      <td>102.315.674</td>\n",
              "      <td>-3.414.725</td>\n",
              "    </tr>\n",
              "    <tr>\n",
              "      <th>4</th>\n",
              "      <td>5</td>\n",
              "      <td>DI Yogyakarta</td>\n",
              "      <td>Jawa</td>\n",
              "      <td>YO</td>\n",
              "      <td>Yogyakarta</td>\n",
              "      <td>3553100</td>\n",
              "      <td>1134</td>\n",
              "      <td>22</td>\n",
              "      <td>2</td>\n",
              "      <td>1</td>\n",
              "      <td>110.390.625</td>\n",
              "      <td>-7.863.382</td>\n",
              "    </tr>\n",
              "  </tbody>\n",
              "</table>\n",
              "</div>\n",
              "    <div class=\"colab-df-buttons\">\n",
              "\n",
              "  <div class=\"colab-df-container\">\n",
              "    <button class=\"colab-df-convert\" onclick=\"convertToInteractive('df-045e8019-6d66-4d7d-9503-cd7282b9b917')\"\n",
              "            title=\"Convert this dataframe to an interactive table.\"\n",
              "            style=\"display:none;\">\n",
              "\n",
              "  <svg xmlns=\"http://www.w3.org/2000/svg\" height=\"24px\" viewBox=\"0 -960 960 960\">\n",
              "    <path d=\"M120-120v-720h720v720H120Zm60-500h600v-160H180v160Zm220 220h160v-160H400v160Zm0 220h160v-160H400v160ZM180-400h160v-160H180v160Zm440 0h160v-160H620v160ZM180-180h160v-160H180v160Zm440 0h160v-160H620v160Z\"/>\n",
              "  </svg>\n",
              "    </button>\n",
              "\n",
              "  <style>\n",
              "    .colab-df-container {\n",
              "      display:flex;\n",
              "      gap: 12px;\n",
              "    }\n",
              "\n",
              "    .colab-df-convert {\n",
              "      background-color: #E8F0FE;\n",
              "      border: none;\n",
              "      border-radius: 50%;\n",
              "      cursor: pointer;\n",
              "      display: none;\n",
              "      fill: #1967D2;\n",
              "      height: 32px;\n",
              "      padding: 0 0 0 0;\n",
              "      width: 32px;\n",
              "    }\n",
              "\n",
              "    .colab-df-convert:hover {\n",
              "      background-color: #E2EBFA;\n",
              "      box-shadow: 0px 1px 2px rgba(60, 64, 67, 0.3), 0px 1px 3px 1px rgba(60, 64, 67, 0.15);\n",
              "      fill: #174EA6;\n",
              "    }\n",
              "\n",
              "    .colab-df-buttons div {\n",
              "      margin-bottom: 4px;\n",
              "    }\n",
              "\n",
              "    [theme=dark] .colab-df-convert {\n",
              "      background-color: #3B4455;\n",
              "      fill: #D2E3FC;\n",
              "    }\n",
              "\n",
              "    [theme=dark] .colab-df-convert:hover {\n",
              "      background-color: #434B5C;\n",
              "      box-shadow: 0px 1px 3px 1px rgba(0, 0, 0, 0.15);\n",
              "      filter: drop-shadow(0px 1px 2px rgba(0, 0, 0, 0.3));\n",
              "      fill: #FFFFFF;\n",
              "    }\n",
              "  </style>\n",
              "\n",
              "    <script>\n",
              "      const buttonEl =\n",
              "        document.querySelector('#df-045e8019-6d66-4d7d-9503-cd7282b9b917 button.colab-df-convert');\n",
              "      buttonEl.style.display =\n",
              "        google.colab.kernel.accessAllowed ? 'block' : 'none';\n",
              "\n",
              "      async function convertToInteractive(key) {\n",
              "        const element = document.querySelector('#df-045e8019-6d66-4d7d-9503-cd7282b9b917');\n",
              "        const dataTable =\n",
              "          await google.colab.kernel.invokeFunction('convertToInteractive',\n",
              "                                                    [key], {});\n",
              "        if (!dataTable) return;\n",
              "\n",
              "        const docLinkHtml = 'Like what you see? Visit the ' +\n",
              "          '<a target=\"_blank\" href=https://colab.research.google.com/notebooks/data_table.ipynb>data table notebook</a>'\n",
              "          + ' to learn more about interactive tables.';\n",
              "        element.innerHTML = '';\n",
              "        dataTable['output_type'] = 'display_data';\n",
              "        await google.colab.output.renderOutput(dataTable, element);\n",
              "        const docLink = document.createElement('div');\n",
              "        docLink.innerHTML = docLinkHtml;\n",
              "        element.appendChild(docLink);\n",
              "      }\n",
              "    </script>\n",
              "  </div>\n",
              "\n",
              "\n",
              "<div id=\"df-1881186d-82b4-4c60-ac0b-1359844ec7c3\">\n",
              "  <button class=\"colab-df-quickchart\" onclick=\"quickchart('df-1881186d-82b4-4c60-ac0b-1359844ec7c3')\"\n",
              "            title=\"Suggest charts\"\n",
              "            style=\"display:none;\">\n",
              "\n",
              "<svg xmlns=\"http://www.w3.org/2000/svg\" height=\"24px\"viewBox=\"0 0 24 24\"\n",
              "     width=\"24px\">\n",
              "    <g>\n",
              "        <path d=\"M19 3H5c-1.1 0-2 .9-2 2v14c0 1.1.9 2 2 2h14c1.1 0 2-.9 2-2V5c0-1.1-.9-2-2-2zM9 17H7v-7h2v7zm4 0h-2V7h2v10zm4 0h-2v-4h2v4z\"/>\n",
              "    </g>\n",
              "</svg>\n",
              "  </button>\n",
              "\n",
              "<style>\n",
              "  .colab-df-quickchart {\n",
              "      --bg-color: #E8F0FE;\n",
              "      --fill-color: #1967D2;\n",
              "      --hover-bg-color: #E2EBFA;\n",
              "      --hover-fill-color: #174EA6;\n",
              "      --disabled-fill-color: #AAA;\n",
              "      --disabled-bg-color: #DDD;\n",
              "  }\n",
              "\n",
              "  [theme=dark] .colab-df-quickchart {\n",
              "      --bg-color: #3B4455;\n",
              "      --fill-color: #D2E3FC;\n",
              "      --hover-bg-color: #434B5C;\n",
              "      --hover-fill-color: #FFFFFF;\n",
              "      --disabled-bg-color: #3B4455;\n",
              "      --disabled-fill-color: #666;\n",
              "  }\n",
              "\n",
              "  .colab-df-quickchart {\n",
              "    background-color: var(--bg-color);\n",
              "    border: none;\n",
              "    border-radius: 50%;\n",
              "    cursor: pointer;\n",
              "    display: none;\n",
              "    fill: var(--fill-color);\n",
              "    height: 32px;\n",
              "    padding: 0;\n",
              "    width: 32px;\n",
              "  }\n",
              "\n",
              "  .colab-df-quickchart:hover {\n",
              "    background-color: var(--hover-bg-color);\n",
              "    box-shadow: 0 1px 2px rgba(60, 64, 67, 0.3), 0 1px 3px 1px rgba(60, 64, 67, 0.15);\n",
              "    fill: var(--button-hover-fill-color);\n",
              "  }\n",
              "\n",
              "  .colab-df-quickchart-complete:disabled,\n",
              "  .colab-df-quickchart-complete:disabled:hover {\n",
              "    background-color: var(--disabled-bg-color);\n",
              "    fill: var(--disabled-fill-color);\n",
              "    box-shadow: none;\n",
              "  }\n",
              "\n",
              "  .colab-df-spinner {\n",
              "    border: 2px solid var(--fill-color);\n",
              "    border-color: transparent;\n",
              "    border-bottom-color: var(--fill-color);\n",
              "    animation:\n",
              "      spin 1s steps(1) infinite;\n",
              "  }\n",
              "\n",
              "  @keyframes spin {\n",
              "    0% {\n",
              "      border-color: transparent;\n",
              "      border-bottom-color: var(--fill-color);\n",
              "      border-left-color: var(--fill-color);\n",
              "    }\n",
              "    20% {\n",
              "      border-color: transparent;\n",
              "      border-left-color: var(--fill-color);\n",
              "      border-top-color: var(--fill-color);\n",
              "    }\n",
              "    30% {\n",
              "      border-color: transparent;\n",
              "      border-left-color: var(--fill-color);\n",
              "      border-top-color: var(--fill-color);\n",
              "      border-right-color: var(--fill-color);\n",
              "    }\n",
              "    40% {\n",
              "      border-color: transparent;\n",
              "      border-right-color: var(--fill-color);\n",
              "      border-top-color: var(--fill-color);\n",
              "    }\n",
              "    60% {\n",
              "      border-color: transparent;\n",
              "      border-right-color: var(--fill-color);\n",
              "    }\n",
              "    80% {\n",
              "      border-color: transparent;\n",
              "      border-right-color: var(--fill-color);\n",
              "      border-bottom-color: var(--fill-color);\n",
              "    }\n",
              "    90% {\n",
              "      border-color: transparent;\n",
              "      border-bottom-color: var(--fill-color);\n",
              "    }\n",
              "  }\n",
              "</style>\n",
              "\n",
              "  <script>\n",
              "    async function quickchart(key) {\n",
              "      const quickchartButtonEl =\n",
              "        document.querySelector('#' + key + ' button');\n",
              "      quickchartButtonEl.disabled = true;  // To prevent multiple clicks.\n",
              "      quickchartButtonEl.classList.add('colab-df-spinner');\n",
              "      try {\n",
              "        const charts = await google.colab.kernel.invokeFunction(\n",
              "            'suggestCharts', [key], {});\n",
              "      } catch (error) {\n",
              "        console.error('Error during call to suggestCharts:', error);\n",
              "      }\n",
              "      quickchartButtonEl.classList.remove('colab-df-spinner');\n",
              "      quickchartButtonEl.classList.add('colab-df-quickchart-complete');\n",
              "    }\n",
              "    (() => {\n",
              "      let quickchartButtonEl =\n",
              "        document.querySelector('#df-1881186d-82b4-4c60-ac0b-1359844ec7c3 button');\n",
              "      quickchartButtonEl.style.display =\n",
              "        google.colab.kernel.accessAllowed ? 'block' : 'none';\n",
              "    })();\n",
              "  </script>\n",
              "</div>\n",
              "\n",
              "    </div>\n",
              "  </div>\n"
            ],
            "application/vnd.google.colaboratory.intrinsic+json": {
              "type": "dataframe",
              "variable_name": "df",
              "summary": "{\n  \"name\": \"df\",\n  \"rows\": 35,\n  \"fields\": [\n    {\n      \"column\": \"province_id\",\n      \"properties\": {\n        \"dtype\": \"number\",\n        \"std\": 10,\n        \"min\": 1,\n        \"max\": 35,\n        \"num_unique_values\": 35,\n        \"samples\": [\n          27,\n          14,\n          25\n        ],\n        \"semantic_type\": \"\",\n        \"description\": \"\"\n      }\n    },\n    {\n      \"column\": \"province_name\",\n      \"properties\": {\n        \"dtype\": \"string\",\n        \"num_unique_values\": 35,\n        \"samples\": [\n          \"\\u00a0Sulawesi Barat\",\n          \"\\u00a0Kalimantan Tengah\",\n          \"\\u00a0Papua Barat\"\n        ],\n        \"semantic_type\": \"\",\n        \"description\": \"\"\n      }\n    },\n    {\n      \"column\": \"island\",\n      \"properties\": {\n        \"dtype\": \"category\",\n        \"num_unique_values\": 8,\n        \"samples\": [\n          \"Kepulauan Nusa Tenggara\",\n          \"Kepulauan Maluku\",\n          \"Sumatra\"\n        ],\n        \"semantic_type\": \"\",\n        \"description\": \"\"\n      }\n    },\n    {\n      \"column\": \"iso_code\",\n      \"properties\": {\n        \"dtype\": \"string\",\n        \"num_unique_values\": 35,\n        \"samples\": [\n          \"SR\",\n          \"KT\",\n          \"PB\"\n        ],\n        \"semantic_type\": \"\",\n        \"description\": \"\"\n      }\n    },\n    {\n      \"column\": \"capital_city\",\n      \"properties\": {\n        \"dtype\": \"string\",\n        \"num_unique_values\": 35,\n        \"samples\": [\n          \"Mamuju\",\n          \"Palangka Raya\",\n          \"Manokwari\"\n        ],\n        \"semantic_type\": \"\",\n        \"description\": \"\"\n      }\n    },\n    {\n      \"column\": \"population\",\n      \"properties\": {\n        \"dtype\": \"number\",\n        \"std\": 10603021,\n        \"min\": 0,\n        \"max\": 46029668,\n        \"num_unique_values\": 35,\n        \"samples\": [\n          1258090,\n          2439858,\n          849809\n        ],\n        \"semantic_type\": \"\",\n        \"description\": \"\"\n      }\n    },\n    {\n      \"column\": \"population_kmsquare\",\n      \"properties\": {\n        \"dtype\": \"number\",\n        \"std\": 424,\n        \"min\": 0,\n        \"max\": 1353,\n        \"num_unique_values\": 33,\n        \"samples\": [\n          189,\n          82,\n          183\n        ],\n        \"semantic_type\": \"\",\n        \"description\": \"\"\n      }\n    },\n    {\n      \"column\": \"confirmed\",\n      \"properties\": {\n        \"dtype\": \"number\",\n        \"std\": 101,\n        \"min\": 0,\n        \"max\": 598,\n        \"num_unique_values\": 19,\n        \"samples\": [\n          4,\n          598,\n          11\n        ],\n        \"semantic_type\": \"\",\n        \"description\": \"\"\n      }\n    },\n    {\n      \"column\": \"deceased\",\n      \"properties\": {\n        \"dtype\": \"number\",\n        \"std\": 8,\n        \"min\": 0,\n        \"max\": 51,\n        \"num_unique_values\": 7,\n        \"samples\": [\n          0,\n          2,\n          6\n        ],\n        \"semantic_type\": \"\",\n        \"description\": \"\"\n      }\n    },\n    {\n      \"column\": \"released\",\n      \"properties\": {\n        \"dtype\": \"number\",\n        \"std\": 5,\n        \"min\": 0,\n        \"max\": 31,\n        \"num_unique_values\": 5,\n        \"samples\": [\n          1,\n          8,\n          31\n        ],\n        \"semantic_type\": \"\",\n        \"description\": \"\"\n      }\n    },\n    {\n      \"column\": \"longitude\",\n      \"properties\": {\n        \"dtype\": \"string\",\n        \"num_unique_values\": 35,\n        \"samples\": [\n          \"119.336.243\",\n          \"113.818.359\",\n          \"132.659.912\"\n        ],\n        \"semantic_type\": \"\",\n        \"description\": \"\"\n      }\n    },\n    {\n      \"column\": \"latitude\",\n      \"properties\": {\n        \"dtype\": \"string\",\n        \"num_unique_values\": 35,\n        \"samples\": [\n          \"-2.361.392\",\n          \"-1.889.306\",\n          \"-1.153.487\"\n        ],\n        \"semantic_type\": \"\",\n        \"description\": \"\"\n      }\n    }\n  ]\n}"
            }
          },
          "metadata": {},
          "execution_count": 26
        }
      ],
      "source": [
        "# Mempersiakan data yang akan diolah\n",
        "import pandas as pd\n",
        "import matplotlib.pyplot as plt\n",
        "import seaborn as sns\n",
        "from scipy.stats import skew\n",
        "\n",
        "# Load the dataset\n",
        "df = pd.read_csv('/content/covid19provinces.csv', encoding='ISO-8859-1')\n",
        "\n",
        "# Melihat beberapa baris pertama dari data\n",
        "df.head()"
      ]
    },
    {
      "cell_type": "code",
      "source": [
        "# Visualisasi Data (Histogram dan Boxplot)\n",
        "# Histogram Populasi Untuk melihat distribusi populasi antar provinsi\n",
        "plt.figure(figsize=(10, 6))\n",
        "sns.histplot(df['population'], bins=15, kde=True)\n",
        "plt.title('Distribution of Population')\n",
        "plt.xlabel('Population')\n",
        "plt.ylabel('Frequency')\n",
        "plt.show()"
      ],
      "metadata": {
        "colab": {
          "base_uri": "https://localhost:8080/",
          "height": 564
        },
        "id": "wYzzqwXKaUjn",
        "outputId": "5537cdc9-ad39-42c0-fc44-174e4ac6d160"
      },
      "execution_count": 27,
      "outputs": [
        {
          "output_type": "display_data",
          "data": {
            "text/plain": [
              "<Figure size 1000x600 with 1 Axes>"
            ],
            "image/png": "[encoded data removed]"
          },
          "metadata": {}
        }
      ]
    },
    {
      "cell_type": "markdown",
      "source": [
        "**Distribusi Condong ke Kanan (Positif) atau Distribusi Eksponensial karena ekor yang lebih panjang di sebelah kanan menunjukkan skewness akan positif dalam data. Ini menunjukkan bahwa lebih banyak provinsi dengan jumlah penduduk yang lebih kecil daripada lebih sedikit provinsi dengan jumlah penduduk yang lebih besar.**"
      ],
      "metadata": {
        "id": "U9XdfXhDZU-Y"
      }
    },
    {
      "cell_type": "code",
      "source": [
        "# Boxplot Untuk melihat penyebaran data kasus confirmed.\n",
        "plt.figure(figsize=(10, 6))\n",
        "sns.boxplot(df['confirmed'])\n",
        "plt.title('Boxplot of Confirmed COVID-19 Cases')\n",
        "plt.show()"
      ],
      "metadata": {
        "colab": {
          "base_uri": "https://localhost:8080/",
          "height": 526
        },
        "id": "_7tT54ElaUvM",
        "outputId": "584e4306-ab5a-4627-98de-c013d8bc62d1"
      },
      "execution_count": 28,
      "outputs": [
        {
          "output_type": "display_data",
          "data": {
            "text/plain": [
              "<Figure size 1000x600 with 1 Axes>"
            ],
            "image/png": "[encoded data removed]"
          },
          "metadata": {}
        }
      ]
    },
    {
      "cell_type": "code",
      "source": [
        "# Pemusatan dan Penyebaran Data\n",
        "\n",
        "#Rata-rata pemusatan data.\n",
        "# Menghitung mean, median, modus dari kolom populasi\n",
        "mean_population = df['population'].mean()\n",
        "median_population = df['population'].median()\n",
        "mode_population = df['population'].mode()[0]\n",
        "\n",
        "# Menghitung Penyebaran Data\n",
        "std_population = df['population'].std()\n",
        "range_population = df['population'].max() - df['population'].min()\n",
        "\n",
        "# Output hasil pemusatan dan penyebaran\n",
        "print(f\"Mean Population: {mean_population}\")\n",
        "print(f\"Median Population: {median_population}\")\n",
        "print(f\"Mode Population: {mode_population}\")\n",
        "print(f\"Standard Deviation Population: {std_population}\")\n",
        "print(f\"Range Population: {range_population}\")"
      ],
      "metadata": {
        "colab": {
          "base_uri": "https://localhost:8080/"
        },
        "id": "uubSkIzVaU0B",
        "outputId": "9675f96f-b7af-43eb-e987-d6ab2968eb1d"
      },
      "execution_count": 29,
      "outputs": [
        {
          "output_type": "stream",
          "name": "stdout",
          "text": [
            "Mean Population: 7200512.857142857\n",
            "Median Population: 3553100.0\n",
            "Mode Population: 0\n",
            "Standard Deviation Population: 10603021.603275876\n",
            "Range Population: 46029668\n"
          ]
        }
      ]
    },
    {
      "cell_type": "code",
      "source": [
        "# Standar Deviasi dan Range\n",
        "# Standar deviasi dan range (minimum - maksimum)\n",
        "std_population = df['population'].std()\n",
        "range_population = df['population'].max() - df['population'].min()\n",
        "\n",
        "print(f\"Standard Deviation Population: {std_population}\")\n",
        "print(f\"Range Population: {range_population}\")"
      ],
      "metadata": {
        "colab": {
          "base_uri": "https://localhost:8080/"
        },
        "id": "KxaFVLn3bTB-",
        "outputId": "e0306d76-b90d-441c-8c16-f5988f0b4772"
      },
      "execution_count": 30,
      "outputs": [
        {
          "output_type": "stream",
          "name": "stdout",
          "text": [
            "Standard Deviation Population: 10603021.603275876\n",
            "Range Population: 46029668\n"
          ]
        }
      ]
    },
    {
      "cell_type": "code",
      "source": [
        "# Analisis Skewness Untuk mengukur skewness dari kolom population\n",
        "# Menghitung skewness\n",
        "skewness_population = skew(df['population'])\n",
        "\n",
        "print(f\"Skewness of Population: {skewness_population}\")\n",
        "\n",
        "# Interpretasi skewness\n",
        "if skewness_population > 0:\n",
        "    print(\"Distribusi populasi condong ke kanan (positif)\")\n",
        "elif skewness_population < 0:\n",
        "    print(\"Distribusi populasi condong ke kiri (negatif)\")\n",
        "else:\n",
        "    print(\"Distribusi populasi simetris (mendekati normal)\")\n",
        "\n",
        "print(f\"karena positif maka bisa disebut juga dengan Distribusi Eksponensial\")"
      ],
      "metadata": {
        "colab": {
          "base_uri": "https://localhost:8080/"
        },
        "id": "_w4TAKmibS79",
        "outputId": "b6984c5e-3bfa-4b7b-85d8-d347642db639"
      },
      "execution_count": 31,
      "outputs": [
        {
          "output_type": "stream",
          "name": "stdout",
          "text": [
            "Skewness of Population: 2.632399238979283\n",
            "Distribusi populasi condong ke kanan (positif)\n",
            "karena positif maka bisa disebut juga dengan Distribusi Eksponensial\n"
          ]
        }
      ]
    },
    {
      "cell_type": "code",
      "source": [
        "#Penyebrana data dengan Quartil\n",
        "# Menghitung kuartil untuk kolom populasi: Kuartil (Q1, Q3)\n",
        "Q1 = df['population'].quantile(0.25)\n",
        "Q3 = df['population'].quantile(0.75)\n",
        "\n",
        "print(f\"Q1 (25th percentile): {Q1}\")\n",
        "print(f\"Q3 (75th percentile): {Q3}\")"
      ],
      "metadata": {
        "colab": {
          "base_uri": "https://localhost:8080/"
        },
        "id": "YWKRcoUzbSzh",
        "outputId": "7d130233-37ab-43b2-bdc0-c7d9a5316ce9"
      },
      "execution_count": 32,
      "outputs": [
        {
          "output_type": "stream",
          "name": "stdout",
          "text": [
            "Q1 (25th percentile): 1881107.5\n",
            "Q3 (75th percentile): 7064971.0\n"
          ]
        }
      ]
    },
    {
      "cell_type": "code",
      "source": [
        "# Scatter Plot (Populasi vs Kasus Terkonfirmasi) melihat hubungan antara populasi dan jumlah kasus terkonfirmasi.\n",
        "plt.figure(figsize=(10, 6))\n",
        "sns.scatterplot(x='population', y='confirmed', data=df)\n",
        "plt.title('Population vs Confirmed COVID-19 Cases')\n",
        "plt.xlabel('Population')\n",
        "plt.ylabel('Confirmed Cases')\n",
        "plt.show()"
      ],
      "metadata": {
        "colab": {
          "base_uri": "https://localhost:8080/",
          "height": 564
        },
        "id": "fZHZAwcCbSnA",
        "outputId": "83a55dac-84ae-4d70-9438-f037abb8fce0"
      },
      "execution_count": 33,
      "outputs": [
        {
          "output_type": "display_data",
          "data": {
            "text/plain": [
              "<Figure size 1000x600 with 1 Axes>"
            ],
            "image/png": "[encoded data removed]"
          },
          "metadata": {}
        }
      ]
    }
  ]
}